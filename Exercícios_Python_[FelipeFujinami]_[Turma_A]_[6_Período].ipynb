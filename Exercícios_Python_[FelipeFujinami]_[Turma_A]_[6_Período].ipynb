{
  "nbformat": 4,
  "nbformat_minor": 0,
  "metadata": {
    "colab": {
      "provenance": [],
      "authorship_tag": "ABX9TyO9lDy6CxqoEVd7hvE+nU0e",
      "include_colab_link": true
    },
    "kernelspec": {
      "name": "python3",
      "display_name": "Python 3"
    },
    "language_info": {
      "name": "python"
    }
  },
  "cells": [
    {
      "cell_type": "markdown",
      "metadata": {
        "id": "view-in-github",
        "colab_type": "text"
      },
      "source": [
        "<a href=\"https://colab.research.google.com/github/FelipeFujinami/Python-Introduction/blob/main/Exerc%C3%ADcios_Python_%5BFelipeFujinami%5D_%5BTurma_A%5D_%5B6_Per%C3%ADodo%5D.ipynb\" target=\"_parent\"><img src=\"https://colab.research.google.com/assets/colab-badge.svg\" alt=\"Open In Colab\"/></a>"
      ]
    },
    {
      "cell_type": "code",
      "execution_count": 3,
      "metadata": {
        "colab": {
          "base_uri": "https://localhost:8080/"
        },
        "id": "QvLgETJWbeib",
        "outputId": "adacd246-91fb-4010-cef3-4ac194d518ff"
      },
      "outputs": [
        {
          "output_type": "stream",
          "name": "stdout",
          "text": [
            "Digite um número ou 'sair' para encerrar:2\n",
            "Digite um número ou 'sair' para encerrar:4\n",
            "Digite um número ou 'sair' para encerrar:6\n",
            "Digite um número ou 'sair' para encerrar:8\n",
            "Digite um número ou 'sair' para encerrar:sair\n",
            "A média aritmética é: 5.0\n"
          ]
        }
      ],
      "source": [
        "'''\n",
        "Crie um programa que calcule a média aritmética de uma lista de números fornecida pelo usuário.\n",
        "O programa deve permitir que o usuário insira quantos números desejar e, ao final, exibir a média dos números inseridos.\n",
        "'''\n",
        "numeros = [] # lista onde serão armazenados os números\n",
        "\n",
        "while True:\n",
        "  entrada = input(\"Digite um número ou 'sair' para encerrar:\")\n",
        "\n",
        "  if entrada.lower() == \"sair\":\n",
        "    break # tira o programa do loop\n",
        "\n",
        "  try:\n",
        "    numero = float(entrada) # converte o valor a entrada para número\n",
        "    numeros.append(numero) # adiciona os números na lista\n",
        "\n",
        "  except ValueError:\n",
        "    print(\"Entrada inválida. Digite um número ou 'sair'.\")\n",
        "\n",
        "if len(numeros) > 0:\n",
        "  media = sum(numeros) / len(numeros)\n",
        "  print(f\"A média aritmética é: {media}\")\n",
        "\n",
        "else:\n",
        "  print(\"Nenhum número foi informado.\")\n"
      ]
    },
    {
      "cell_type": "code",
      "source": [
        "'''\n",
        "Desenvolva um script que conte quantas vezes cada caractere aparece em uma string fornecida pelo usuário.\n",
        "O programa deve ignorar espaços e diferenciar maiúsculas de minúsculas.\n",
        "'''\n",
        "entrada = input(\"Digite algo:\") # faz a interação com o usuário\n",
        "\n",
        "contagem = {} # dicíonario para armazenar a contagem\n",
        "\n",
        "for caractere in entrada:\n",
        "  if caractere != \" \": # pedi para ele ignorar os espaços\n",
        "    if caractere in contagem:\n",
        "      contagem[caractere] += 1\n",
        "    else:\n",
        "      contagem[caractere] = 1\n",
        "\n",
        "# Exibe os resultados\n",
        "print(\"\\n Contagem de caracteres (maiúsculas e minúsculas são diferentes): \")\n",
        "for caractere, quantidade in  contagem.items():\n",
        "  print(f\"'{caractere}': {quantidade}\")\n"
      ],
      "metadata": {
        "colab": {
          "base_uri": "https://localhost:8080/"
        },
        "id": "6MB5VDu7cxvJ",
        "outputId": "a6d05b47-6367-4bfd-ae60-f98a23078050"
      },
      "execution_count": 4,
      "outputs": [
        {
          "output_type": "stream",
          "name": "stdout",
          "text": [
            "Digite algo:ONE OK ROCK\n",
            "\n",
            " Contagem de caracteres (maiúsculas e minúsculas são diferentes): \n",
            "'O': 3\n",
            "'N': 1\n",
            "'E': 1\n",
            "'K': 2\n",
            "'R': 1\n",
            "'C': 1\n"
          ]
        }
      ]
    },
    {
      "cell_type": "code",
      "source": [
        "'''\n",
        "Escreva um programa que verifique se uma palavra ou frase (ignorando espaços e pontuações) é um palíndromo,\n",
        "ou seja, se ela é igual quando lida de trás para frente.\n",
        "'''\n",
        "import string #importei essa biblioteca para facilitar na hora de analisar o texto de entrada. Ela verifica se a entrada possui algum sinal de pontuação.\n",
        "\n",
        "entrada = input(\"Digite uma palavra ou frase:\") # interação com o usuário\n",
        "\n",
        "# remove espaços e pontuação\n",
        "entrada_limpa = \" \".join(\n",
        "    caractere for caractere in entrada if caractere not in string.punctuation and caractere != \" \"\n",
        ")\n",
        "\n",
        "# verifica se é um pálindromo\n",
        "if entrada_limpa == entrada_limpa[::-1]:\n",
        "  print(\"É um pálindromo!\")\n",
        "else:\n",
        "  print(\"Não é um pálindromo.\")"
      ],
      "metadata": {
        "id": "id_xZMsnf0_p"
      },
      "execution_count": null,
      "outputs": []
    },
    {
      "cell_type": "code",
      "source": [
        "'''\n",
        "Crie um conversor que transforme temperaturas de Celsius para Fahrenheit e vice-versa.\n",
        "O programa deve permitir que o usuário escolha o tipo de conversão e insira a temperatura.\n",
        "'''\n",
        "# Funções de conversão de temperatura\n",
        "def celsius_para_fahrenheit(c):\n",
        "  return (c * 9/5) + 32\n",
        "def fahrenheit_para_celsius(f):\n",
        "  return (f - 32) * 5/9\n",
        "\n",
        "# Função que mostra o título e o menu de escolha\n",
        "def titulo(txt):\n",
        "  print('-' * 30)\n",
        "  print(txt)\n",
        "  print('-' * 30)\n",
        "  print(\"1 - Celsius para Fahrenheit\")\n",
        "  print(\"2 - Fahrenheit para Celsius\")\n",
        "\n",
        "titulo(\"CONVERSOR DE TEMPERATURA:\")\n",
        "opcao = int(input(\"Escolha a opção 1 ou 2): \"))\n",
        "\n",
        "if opcao == \"1\":\n",
        "  c = float(input(\"Digite a temperatura em Celsius:\"))\n",
        "  print(f\"{c}°C = {celsius_para_fahrenheit(c):.2f}°F\")\n",
        "elif opcao == \"2\":\n",
        "  f = float(input(\"Digite a temperatura em Fahrenheit:\"))\n",
        "  print(f\"{f}°F = {fahrenheit_para_celsius(f):.2f}°C\")\n",
        "else:\n",
        "  print(\"Opção inválida!\")\n"
      ],
      "metadata": {
        "id": "pYRx1th6kOd2"
      },
      "execution_count": null,
      "outputs": []
    },
    {
      "cell_type": "code",
      "source": [
        "'''\n",
        "Desenvolva um programa que gere a tabuada de um número fornecido pelo usuário.\n",
        "O programa deve exibir a multiplicação de 1 até 10 para o número informado.\n",
        "'''\n",
        "# Função que calcula a tabuada do número informado\n",
        "def tabuada(numero):\n",
        "  print(f\"A tabuada do número: {numero}\")\n",
        "  for i in range(1,10):\n",
        "    print(f\"{numero} x {i} = {numero * i}\")\n",
        "\n",
        "# Interação com o usuário\n",
        "n = int(input(\"Digite um número para ver sua tabuada: \"))\n",
        "tabuada(n)"
      ],
      "metadata": {
        "id": "W7_MyL2a0voH"
      },
      "execution_count": null,
      "outputs": []
    },
    {
      "cell_type": "code",
      "source": [
        "'''\n",
        "Escreva um script que simule o lançamento de um dado de 6 faces.\n",
        "O programa deve solicitar ao usuário quantas vezes ele deseja lançar o dado e mostrar os resultados de cada lançamento.\n",
        "'''\n",
        "import random\n",
        "\n",
        "# Interação com o usuário\n",
        "quantidade = int(input(\"Quantas vezes deseja lançar o dado?\"))\n",
        "\n",
        "print(\"\\nResultado dos lançamentos:\")\n",
        "for i in range(1, quantidade + 1):\n",
        "  resultado = random.randint(1,6) # Gera um número inteiro entre 1 e 6\n",
        "  print(f\"Lançamento {i}: {resultado}\")"
      ],
      "metadata": {
        "id": "rub8zaej31WV"
      },
      "execution_count": null,
      "outputs": []
    },
    {
      "cell_type": "code",
      "source": [
        "'''\n",
        "Desenvolva um programa que receba uma lista de números do usuário e ordene essa lista em ordem crescente.\n",
        "O programa deve exibir a lista antes e depois da ordenação.\n",
        "'''\n",
        "\n",
        "# Solicita a lista de números separados por espaço\n",
        "entrada = input(\"Digite os números separados por espaço: \")\n",
        "\n",
        "# Converte para lista de inteiros\n",
        "numeros = [int(x) for x in entrada.split()]\n",
        "\n",
        "# Exibe a lista original\n",
        "print(\"Lista original:\", numeros)\n",
        "\n",
        "# Ordena em ordem crescente\n",
        "numeros.sort()\n",
        "\n",
        "# Exibe a lista ordenada\n",
        "print(\"Lista ordenada:\", numeros)"
      ],
      "metadata": {
        "id": "bKMRbbMC53aU"
      },
      "execution_count": null,
      "outputs": []
    },
    {
      "cell_type": "code",
      "source": [
        "'''\n",
        "Crie um programa que determine se um número fornecido pelo usuário é primo.\n",
        "O programa deve informar se o número é primo ou não e listar todos os divisores do número.\n",
        "'''\n",
        "# Solicita o número\n",
        "n = int(input(\"Digite um número inteiro: \"))\n",
        "\n",
        "# Lista para armazenar os divisores\n",
        "divisores = []\n",
        "\n",
        "# Verifica todos os divisores possíveis\n",
        "for i in range(1, n + 1):\n",
        "    if n % i == 0:\n",
        "        divisores.append(i)\n",
        "\n",
        "# Exibe os divisores\n",
        "print(f\"Divisores de {n}: {divisores}\")\n",
        "\n",
        "# Verifica se é primo\n",
        "if len(divisores) == 2:\n",
        "    print(f\"{n} é um número primo.\")\n",
        "else:\n",
        "    print(f\"{n} não é um número primo.\")"
      ],
      "metadata": {
        "id": "a_8AYotICa38"
      },
      "execution_count": null,
      "outputs": []
    },
    {
      "cell_type": "code",
      "source": [
        "'''\n",
        "Implemente um sistema de login simples que armazene os nomes de usuário e senhas em um dicionário.\n",
        "O programa deve permitir que o usuário se cadastre e faça login, validando as credenciais inseridas.\n",
        "'''\n",
        "# Dicionário para armazenar usuários e senhas\n",
        "usuarios = {}\n",
        "\n",
        "def cadastrar():\n",
        "    usuario = input(\"Digite um nome de usuário: \")\n",
        "    if usuario in usuarios:\n",
        "        print(\"Usuário já existe! Escolha outro nome.\")\n",
        "    else:\n",
        "        senha = input(\"Digite uma senha: \")\n",
        "        usuarios[usuario] = senha\n",
        "        print(\"Cadastro realizado com sucesso!\")\n",
        "\n",
        "def login():\n",
        "    usuario = input(\"Digite seu nome de usuário: \")\n",
        "    senha = input(\"Digite sua senha: \")\n",
        "\n",
        "    if usuario in usuarios and usuarios[usuario] == senha:\n",
        "        print(\"Login bem-sucedido! Bem-vindo,\", usuario)\n",
        "    else:\n",
        "        print(\"Usuário ou senha incorretos.\")\n",
        "\n",
        "# Programa principal\n",
        "while True:\n",
        "    print(\"\\n=== Sistema de Login ===\")\n",
        "    print(\"1 - Cadastrar\")\n",
        "    print(\"2 - Login\")\n",
        "    print(\"3 - Sair\")\n",
        "\n",
        "    opcao = input(\"Escolha uma opção: \")\n",
        "\n",
        "    if opcao == \"1\":\n",
        "        cadastrar()\n",
        "    elif opcao == \"2\":\n",
        "        login()\n",
        "    elif opcao == \"3\":\n",
        "        print(\"Encerrando o sistema...\")\n",
        "        break\n",
        "    else:\n",
        "        print(\"Opção inválida.\")"
      ],
      "metadata": {
        "id": "0WzO85_LDhRi"
      },
      "execution_count": null,
      "outputs": []
    },
    {
      "cell_type": "code",
      "source": [
        "'''\n",
        "Escreva um programa que calcule o fatorial de um número fornecido pelo usuário utilizando um loop for. O programa deve exibir o resultado do fatorial ao final.\n",
        "'''\n",
        "# Solicita o número\n",
        "n = int(input(\"Digite um número inteiro não negativo: \"))\n",
        "\n",
        "# Inicializa o resultado\n",
        "fatorial = 1\n",
        "\n",
        "# Calcula o fatorial usando for\n",
        "for i in range(1, n + 1):\n",
        "    fatorial *= i\n",
        "\n",
        "# Exibe o resultado\n",
        "print(f\"O fatorial de {n} é {fatorial}\")"
      ],
      "metadata": {
        "id": "L5zsj2tUD0CU"
      },
      "execution_count": null,
      "outputs": []
    },
    {
      "cell_type": "code",
      "source": [
        "'''\n",
        "Crie um programa que converta um valor em reais para dólares ou euros.\n",
        "O programa deve permitir que o usuário escolha a moeda de destino e insira o valor a ser convertido, utilizando uma taxa de câmbio fixa definida no código.\n",
        "'''\n",
        "# Taxas de câmbio fixas\n",
        "TAXA_DOLAR = 5.10   # 1 USD = 5,10 BRL\n",
        "TAXA_EURO = 5.50    # 1 EUR = 5,50 BRL\n",
        "\n",
        "# Solicita o valor em reais\n",
        "reais = float(input(\"Digite o valor em Reais (R$): \"))\n",
        "\n",
        "# Menu de escolha da moeda\n",
        "print(\"Escolha a moeda de destino:\")\n",
        "print(\"1 - Dólar\")\n",
        "print(\"2 - Euro\")\n",
        "opcao = input(\"Opção: \")\n",
        "\n",
        "# Conversão\n",
        "if opcao == \"1\":\n",
        "    convertido = reais / TAXA_DOLAR\n",
        "    print(f\"R${reais:.2f} equivalem a ${convertido:.2f} dólares.\")\n",
        "elif opcao == \"2\":\n",
        "    convertido = reais / TAXA_EURO\n",
        "    print(f\"R${reais:.2f} equivalem a €{convertido:.2f} euros.\")\n",
        "else:\n",
        "    print(\"Opção inválida.\")"
      ],
      "metadata": {
        "id": "3cEejQdqEJMp"
      },
      "execution_count": null,
      "outputs": []
    },
    {
      "cell_type": "code",
      "source": [
        "'''\n",
        "Desenvolva um script que conte o número de palavras em uma frase fornecida pelo usuário. O programa deve ignorar pontuações e considerar apenas as palavras separadas por espaços.\n",
        "'''\n",
        "import string\n",
        "\n",
        "# Solicita a frase do usuário\n",
        "frase = input(\"Digite uma frase: \")\n",
        "\n",
        "# Remove pontuação\n",
        "frase_sem_pontuacao = frase.translate(str.maketrans(\"\", \"\", string.punctuation))\n",
        "\n",
        "# Divide a frase em palavras usando espaço como separador\n",
        "palavras = frase_sem_pontuacao.split()\n",
        "\n",
        "# Conta o número de palavras\n",
        "quantidade = len(palavras)\n",
        "\n",
        "print(f\"A frase contém {quantidade} palavra(s).\")"
      ],
      "metadata": {
        "id": "erqF6sbdEa4B"
      },
      "execution_count": null,
      "outputs": []
    },
    {
      "cell_type": "code",
      "source": [
        "'''\n",
        "Escreva um programa que gere n números aleatórios entre um intervalo fornecido pelo usuário. O programa deve solicitar o valor de n e os limites inferior e superior do intervalo.\n",
        "'''\n",
        "import random\n",
        "\n",
        "# Solicita ao usuário os dados\n",
        "n = int(input(\"Quantos números aleatórios deseja gerar? \"))\n",
        "limite_inferior = int(input(\"Digite o limite inferior do intervalo: \"))\n",
        "limite_superior = int(input(\"Digite o limite superior do intervalo: \"))\n",
        "\n",
        "# Gera e exibe os números aleatórios\n",
        "print(\"\\nNúmeros aleatórios gerados:\")\n",
        "for _ in range(n):\n",
        "    numero = random.randint(limite_inferior, limite_superior)\n",
        "    print(numero)"
      ],
      "metadata": {
        "id": "sN91jrn9Ek8g"
      },
      "execution_count": null,
      "outputs": []
    },
    {
      "cell_type": "code",
      "source": [
        "'''\n",
        "Implemente uma calculadora que permita ao usuário calcular a média ponderada de um conjunto de notas.\n",
        "O usuário deve inserir as notas e os respectivos pesos, e o programa deve calcular e exibir a média ponderada.\n",
        "'''\n",
        "# Inicializa listas para notas e pesos\n",
        "notas = []\n",
        "pesos = []\n",
        "\n",
        "# Solicita a quantidade de notas\n",
        "qtd = int(input(\"Digite quantas notas deseja inserir: \"))\n",
        "\n",
        "# Coleta notas e pesos\n",
        "for i in range(1, qtd + 1):\n",
        "    nota = float(input(f\"Digite a nota {i}: \"))\n",
        "    peso = float(input(f\"Digite o peso da nota {i}: \"))\n",
        "    notas.append(nota)\n",
        "    pesos.append(peso)\n",
        "\n",
        "# Calcula a média ponderada\n",
        "media_ponderada = sum(n * p for n, p in zip(notas, pesos)) / sum(pesos)\n",
        "\n",
        "# Exibe o resultado\n",
        "print(f\"A média ponderada é: {media_ponderada:.2f}\")"
      ],
      "metadata": {
        "id": "0JpGB0CUEz8X"
      },
      "execution_count": null,
      "outputs": []
    },
    {
      "cell_type": "code",
      "source": [
        "'''\n",
        "Desenvolva um programa que calcule a raiz quadrada de um número fornecido pelo usuário. Utilize a função sqrt() do módulo math e exiba o resultado.\n",
        "'''\n",
        "import math\n",
        "\n",
        "# Solicita o número\n",
        "numero = float(input(\"Digite um número: \"))\n",
        "\n",
        "# Verifica se o número é negativo\n",
        "if numero < 0:\n",
        "    print(\"Não é possível calcular a raiz quadrada de um número negativo.\")\n",
        "else:\n",
        "    raiz = math.sqrt(numero)\n",
        "    print(f\"A raiz quadrada de {numero} é {raiz:.2f}\")"
      ],
      "metadata": {
        "id": "YP0MxSDZE_qA"
      },
      "execution_count": null,
      "outputs": []
    },
    {
      "cell_type": "code",
      "source": [
        "'''\n",
        "Crie um programa que simule um caixa eletrônico.\n",
        "O usuário deve inserir o valor que deseja sacar, e o programa deve exibir quantas notas de cada valor serão entregues (R$100, R$50, R$20, R$10).\n",
        "'''\n",
        "# Solicita o valor a ser sacado\n",
        "valor = int(input(\"Digite o valor que deseja sacar: R$ \"))\n",
        "\n",
        "# Inicializa contadores de notas\n",
        "notas_100 = valor // 100\n",
        "valor %= 100\n",
        "\n",
        "notas_50 = valor // 50\n",
        "valor %= 50\n",
        "\n",
        "notas_20 = valor // 20\n",
        "valor %= 20\n",
        "\n",
        "notas_10 = valor // 10\n",
        "valor %= 10\n",
        "\n",
        "# Exibe o resultado\n",
        "print(\"\\nNotas a serem entregues:\")\n",
        "if notas_100 > 0:\n",
        "    print(f\"R$100: {notas_100}\")\n",
        "if notas_50 > 0:\n",
        "    print(f\"R$50: {notas_50}\")\n",
        "if notas_20 > 0:\n",
        "    print(f\"R$20: {notas_20}\")\n",
        "if notas_10 > 0:\n",
        "    print(f\"R$10: {notas_10}\")\n",
        "\n",
        "if valor > 0:\n",
        "    print(f\"Valor restante não disponível em notas: R${valor}\")"
      ],
      "metadata": {
        "id": "9eyEl_88FLzR"
      },
      "execution_count": null,
      "outputs": []
    },
    {
      "cell_type": "code",
      "source": [
        "'''\n",
        "Escreva um programa que determine se um ano fornecido pelo usuário é bissexto.\n",
        "O programa deve seguir as regras para anos bissextos (divisíveis por 4, exceto se divisíveis por 100, mas divisíveis por 400).\n",
        "'''\n",
        "# Solicita o ano ao usuário\n",
        "ano = int(input(\"Digite um ano: \"))\n",
        "\n",
        "# Verifica se é bissexto\n",
        "if (ano % 4 == 0 and ano % 100 != 0) or (ano % 400 == 0):\n",
        "    print(f\"{ano} é um ano bissexto.\")\n",
        "else:\n",
        "    print(f\"{ano} não é um ano bissexto.\")"
      ],
      "metadata": {
        "id": "FsJFXnKoFYNG"
      },
      "execution_count": null,
      "outputs": []
    },
    {
      "cell_type": "code",
      "source": [
        "'''\n",
        "Desenvolva um sistema simples para gerenciar contatos, onde o usuário pode adicionar, remover e listar contatos (nome e telefone). Utilize um dicionário para armazenar os contatos.\n",
        "'''\n",
        "# Dicionário para armazenar contatos\n",
        "contatos = {}\n",
        "\n",
        "def adicionar_contato():\n",
        "    nome = input(\"Digite o nome do contato: \")\n",
        "    if nome in contatos:\n",
        "        print(\"Contato já existe!\")\n",
        "    else:\n",
        "        telefone = input(\"Digite o telefone do contato: \")\n",
        "        contatos[nome] = telefone\n",
        "        print(f\"Contato {nome} adicionado com sucesso!\")\n",
        "\n",
        "def remover_contato():\n",
        "    nome = input(\"Digite o nome do contato que deseja remover: \")\n",
        "    if nome in contatos:\n",
        "        del contatos[nome]\n",
        "        print(f\"Contato {nome} removido com sucesso!\")\n",
        "    else:\n",
        "        print(\"Contato não encontrado.\")\n",
        "\n",
        "def listar_contatos():\n",
        "    if contatos:\n",
        "        print(\"\\nLista de contatos:\")\n",
        "        for nome, telefone in contatos.items():\n",
        "            print(f\"{nome}: {telefone}\")\n",
        "    else:\n",
        "        print(\"Nenhum contato cadastrado.\")\n",
        "\n",
        "# Programa principal\n",
        "while True:\n",
        "    print(\"\\n=== Gerenciador de Contatos ===\")\n",
        "    print(\"1 - Adicionar contato\")\n",
        "    print(\"2 - Remover contato\")\n",
        "    print(\"3 - Listar contatos\")\n",
        "    print(\"4 - Sair\")\n",
        "\n",
        "    opcao = input(\"Escolha uma opção: \")\n",
        "\n",
        "    if opcao == \"1\":\n",
        "        adicionar_contato()\n",
        "    elif opcao == \"2\":\n",
        "        remover_contato()\n",
        "    elif opcao == \"3\":\n",
        "        listar_contatos()\n",
        "    elif opcao == \"4\":\n",
        "        print(\"Encerrando o programa...\")\n",
        "        break\n",
        "    else:\n",
        "        print(\"Opção inválida.\")"
      ],
      "metadata": {
        "id": "__LCzVL8FjC_"
      },
      "execution_count": null,
      "outputs": []
    },
    {
      "cell_type": "code",
      "source": [
        "'''\n",
        " Crie um programa que calcule o preço final de um produto após a aplicação de um desconto.\n",
        " O usuário deve inserir o preço original e a porcentagem de desconto, e o programa deve exibir o preço final.\n",
        "'''\n",
        "# Solicita o preço original e o desconto\n",
        "preco_original = float(input(\"Digite o preço original do produto: R$ \"))\n",
        "desconto = float(input(\"Digite a porcentagem de desconto (%): \"))\n",
        "\n",
        "# Calcula o valor do desconto\n",
        "valor_desconto = preco_original * (desconto / 100)\n",
        "\n",
        "# Calcula o preço final\n",
        "preco_final = preco_original - valor_desconto\n",
        "\n",
        "# Exibe o resultado\n",
        "print(f\"O preço final do produto com {desconto:.2f}% de desconto é: R${preco_final:.2f}\")"
      ],
      "metadata": {
        "id": "aoqQN-UTFsaD"
      },
      "execution_count": null,
      "outputs": []
    },
    {
      "cell_type": "code",
      "source": [
        "'''\n",
        "Utilize o Pandas para carregar um dataset simples, como o conjunto de dados do Titanic ou Iris, disponível na biblioteca seaborn.\n",
        "Realize uma análise básica para calcular estatísticas descritivas, como média e mediana de colunas numéricas.\n",
        "Em seguida, utilize o Matplotlib para criar gráficos simples (como histogramas ou gráficos de barras) que visualizem algumas dessas estatísticas ou distribuições.\n",
        "'''\n",
        "import pandas as pd\n",
        "import seaborn as sns\n",
        "import matplotlib.pyplot as plt\n",
        "\n",
        "# 1. Carregar o dataset Iris do Seaborn\n",
        "df = sns.load_dataset('iris')\n",
        "\n",
        "# 2. Visualizar as primeiras linhas\n",
        "print(\"Primeiras linhas do dataset:\")\n",
        "print(df.head())\n",
        "\n",
        "# 3. Estatísticas descritivas básicas\n",
        "print(\"\\nEstatísticas descritivas:\")\n",
        "print(df.describe())\n",
        "\n",
        "# Cálculo de média e mediana de colunas numéricas\n",
        "print(\"\\nMédia das colunas numéricas:\")\n",
        "print(df.mean())\n",
        "\n",
        "print(\"\\nMediana das colunas numéricas:\")\n",
        "print(df.median())\n",
        "\n",
        "# 4. Visualizações com Matplotlib\n",
        "\n",
        "# Histograma do comprimento das pétalas\n",
        "plt.figure(figsize=(8,5))\n",
        "plt.hist(df['petal_length'], bins=20, color='skyblue', edgecolor='black')\n",
        "plt.title('Distribuição do Comprimento das Pétalas')\n",
        "plt.xlabel('Comprimento da Pétala (cm)')\n",
        "plt.ylabel('Frequência')\n",
        "plt.show()\n",
        "\n",
        "# Gráfico de barras da média do comprimento das sépalas por espécie\n",
        "media_sepala = df.groupby('species')['sepal_length'].mean()\n",
        "media_sepala.plot(kind='bar', color='salmon')\n",
        "plt.title('Média do Comprimento da Sépala por Espécie')\n",
        "plt.xlabel('Espécie')\n",
        "plt.ylabel('Comprimento médio da Sépala (cm)')\n",
        "plt.show()"
      ],
      "metadata": {
        "id": "xObeU35hF2G5"
      },
      "execution_count": null,
      "outputs": []
    }
  ]
}
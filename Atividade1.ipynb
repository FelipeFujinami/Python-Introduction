{
  "nbformat": 4,
  "nbformat_minor": 0,
  "metadata": {
    "colab": {
      "provenance": [],
      "authorship_tag": "ABX9TyOtaN23nZwYFe6s1kBeY7LJ",
      "include_colab_link": true
    },
    "kernelspec": {
      "name": "python3",
      "display_name": "Python 3"
    },
    "language_info": {
      "name": "python"
    }
  },
  "cells": [
    {
      "cell_type": "markdown",
      "metadata": {
        "id": "view-in-github",
        "colab_type": "text"
      },
      "source": [
        "<a href=\"https://colab.research.google.com/github/FelipeFujinami/Python-Introduction/blob/main/Atividade1.ipynb\" target=\"_parent\"><img src=\"https://colab.research.google.com/assets/colab-badge.svg\" alt=\"Open In Colab\"/></a>"
      ]
    },
    {
      "cell_type": "code",
      "execution_count": 4,
      "metadata": {
        "colab": {
          "base_uri": "https://localhost:8080/"
        },
        "id": "Z6pXMak-modT",
        "outputId": "5841e671-b7bd-4af7-ba23-c607aeb23eee"
      },
      "outputs": [
        {
          "output_type": "stream",
          "name": "stdout",
          "text": [
            "Hello World!\n"
          ]
        }
      ],
      "source": [
        "print(\"Hello World!\")"
      ]
    },
    {
      "cell_type": "code",
      "source": [
        "nome = str(\"Joao\")\n",
        "idade = 21\n",
        "altura = float(1.75)\n",
        "print(f\"nome: {nome}\\nidade: {idade} anos\\naltura: {altura} m\")"
      ],
      "metadata": {
        "colab": {
          "base_uri": "https://localhost:8080/"
        },
        "id": "So_7kq3B62Mr",
        "outputId": "c7cfe5c6-7a5f-4e07-bf11-6375c2e419c1"
      },
      "execution_count": 15,
      "outputs": [
        {
          "output_type": "stream",
          "name": "stdout",
          "text": [
            "nome: Joao\n",
            "idade: 21 anos\n",
            "altura: 1.75 m\n"
          ]
        }
      ]
    },
    {
      "cell_type": "code",
      "source": [
        "a = 10\n",
        "b = 5\n",
        "soma = a + b\n",
        "subtracao = a - b\n",
        "multiplicacao = a * b\n",
        "divisao = a//b\n",
        "\n",
        "print(f\"soma: {soma} \\nsubtracao: {subtracao} \\nmultiplicacao: {multiplicacao} \\ndivisao: {divisao}\")"
      ],
      "metadata": {
        "colab": {
          "base_uri": "https://localhost:8080/"
        },
        "id": "dr8j1CQegC-M",
        "outputId": "e40b6830-6874-4fa9-eb2d-c5a4789cf28d"
      },
      "execution_count": 21,
      "outputs": [
        {
          "output_type": "stream",
          "name": "stdout",
          "text": [
            "soma: 15 \n",
            "subtracao: 5 \n",
            "multiplicacao: 50 \n",
            "divisao: 2\n"
          ]
        }
      ]
    },
    {
      "cell_type": "code",
      "source": [
        "Primeiro_numero = float(input(\"Digite o primeiro numero: \"))\n",
        "Segundo_numero = float(input(\"Digite o segundo numero: \"))\n",
        "operacao = str(input(\"Digite a operacao (letra minuscula, sem acentuação e sem ç ): \"))\n",
        "\n",
        "if operacao == \"soma\":\n",
        "  soma = Primeiro_numero + Segundo_numero\n",
        "  print(f\"soma: {soma}\")\n",
        "elif operacao == \"subtracao\":\n",
        "  subtracao = Primeiro_numero - Segundo_numero\n",
        "  print(f\"subtracao: {subtracao}\")\n",
        "elif operacao == \"multiplicacao\":\n",
        "  multiplicacao = Primeiro_numero * Segundo_numero\n",
        "  print(f\"multiplicacao: {multiplicacao}\")\n",
        "elif operacao == \"divisao\":\n",
        "  divisao = Primeiro_numero / Segundo_numero\n",
        "  print(f\"divisao: {divisao}\")\n",
        "else:\n",
        "  print(\"operacao invalida\")"
      ],
      "metadata": {
        "colab": {
          "base_uri": "https://localhost:8080/"
        },
        "id": "_K2XhwfZyfFe",
        "outputId": "3933d9f4-8349-4a7e-d478-9ee0c4cc1f12"
      },
      "execution_count": 28,
      "outputs": [
        {
          "output_type": "stream",
          "name": "stdout",
          "text": [
            "Digite o primeiro numero: 2.7\n",
            "Digite o segundo numero: 9\n",
            "Digite a operacao (letra minuscula, sem acentuação e sem ç ): multiplicacao\n",
            "multiplicacao: 24.3\n"
          ]
        }
      ]
    },
    {
      "cell_type": "code",
      "source": [
        "temperatura = float(input(\"Digite a temperatura: \"))\n",
        "medida = str(input(\"Digite a medida (C ou F): \"))\n",
        "\n",
        "if medida == \"C\":\n",
        "  convertido = (temperatura * 9/5) + 32\n",
        "  print(f\"{temperatura} C = {convertido} F\")\n",
        "elif medida == \"F\":\n",
        "  convertido = (temperatura - 32) * 5/9\n",
        "  print(f\"{temperatura} F = {convertido} C\")\n",
        "else:\n",
        "  print(\"medida invalida\")\n"
      ],
      "metadata": {
        "colab": {
          "base_uri": "https://localhost:8080/"
        },
        "id": "MDc7JGyE9WYS",
        "outputId": "3758daf3-23b8-4eda-edf6-28c1b600aa96"
      },
      "execution_count": 30,
      "outputs": [
        {
          "output_type": "stream",
          "name": "stdout",
          "text": [
            "Digite a temperatura: 27\n",
            "Digite a medida (C ou F): C\n",
            "27.0 C = 80.6 F\n"
          ]
        }
      ]
    },
    {
      "cell_type": "code",
      "source": [
        "Entrada = str(input(\"Digite algo: \"))\n",
        "Quantidade = len(Entrada)\n",
        "\n",
        "print(f\"Quantidade de caracteres: {Quantidade}\")\n"
      ],
      "metadata": {
        "colab": {
          "base_uri": "https://localhost:8080/"
        },
        "id": "aWlzApfYVHPb",
        "outputId": "743b612a-62f2-4ee0-e1e0-6c5ed157234c"
      },
      "execution_count": 31,
      "outputs": [
        {
          "output_type": "stream",
          "name": "stdout",
          "text": [
            "Digite algo: Foi ao supermercado comprar arroz\n",
            "Quantidade de caracteres: 33\n"
          ]
        }
      ]
    },
    {
      "cell_type": "code",
      "source": [
        "# Mini dicionário de japonês\n",
        "# Autor: [Seu Nome]\n",
        "# Objetivo: Criar um sistema simples para estudar nihongo\n",
        "\n",
        "# Dicionário: palavra em japonês → (significado, pronúncia romaji)\n",
        "dicionario = {\n",
        "    \"水\": (\"água\", \"mizu\"),\n",
        "    \"猫\": (\"gato\", \"neko\"),\n",
        "    \"ありがとう\": (\"obrigado\", \"arigatou\"),\n",
        "    \"空\": (\"céu\", \"sora\"),\n",
        "    \"音楽\": (\"música\", \"ongaku\")\n",
        "}\n",
        "\n",
        "print(\"=== Mini Dicionário Nihongo ===\")\n",
        "print(\"Palavras disponíveis:\", \", \".join(dicionario.keys()))\n",
        "\n",
        "while True:\n",
        "    palavra = input(\"\\nDigite a palavra em japonês (ou 'sair' para encerrar): \")\n",
        "\n",
        "    if palavra.lower() == \"sair\":\n",
        "        print(\"Encerrando o dicionário. またね (matane)!\")\n",
        "        break\n",
        "\n",
        "    if palavra in dicionario:\n",
        "        significado, pronuncia = dicionario[palavra]\n",
        "        print(f\"Significado: {significado} | Pronúncia: {pronuncia}\")\n",
        "    else:\n",
        "        print(\"Palavra não encontrada. Tente novamente.\")\n",
        "\n",
        "\"\"\"📄 Documentação do Aplicativo – Mini Dicionário Nihongo\n",
        "\n",
        "Descrição:\n",
        "Um programa em Python que serve como um pequeno dicionário de japonês-português com pronúncia em romaji.\n",
        "\n",
        "Funcionalidades:\n",
        "\n",
        "1) Lista palavras disponíveis.\n",
        "2) Recebe entrada do usuário.\n",
        "3) Retorna significado e pronúncia.\n",
        "4) Permite encerrar digitando \"sair\".\n",
        "\n",
        "Estrutura:\n",
        "\n",
        "1) Dicionário (dict) → usado para armazenar as palavras.\n",
        "2) Loop while True → mantém o programa rodando até o usuário encerrar.\n",
        "3) Condições if/else → verificam se a palavra existe no dicionário.\n",
        "\n",
        "Possíveis melhorias:\n",
        "\n",
        "1) Adicionar mais palavras.\n",
        "2) Implementar busca parcial (achar mesmo se o usuário digitar parte da palavra).\n",
        "3) Criar modo de quiz para praticar.\n",
        "\"\"\"\n"
      ],
      "metadata": {
        "colab": {
          "base_uri": "https://localhost:8080/",
          "height": 174
        },
        "id": "RdcBVu8ddvQR",
        "outputId": "eebd54e1-ee48-4743-f9ed-ece133c351d8"
      },
      "execution_count": 33,
      "outputs": [
        {
          "output_type": "stream",
          "name": "stdout",
          "text": [
            "=== Mini Dicionário Nihongo ===\n",
            "Palavras disponíveis: 水, 猫, ありがとう, 空, 音楽\n",
            "\n",
            "Digite a palavra em japonês (ou 'sair' para encerrar): sair\n",
            "Encerrando o dicionário. またね (matane)!\n"
          ]
        },
        {
          "output_type": "execute_result",
          "data": {
            "text/plain": [
              "'📄 Documentação do Aplicativo – Mini Dicionário Nihongo\\n\\nDescrição:\\nUm programa em Python que serve como um pequeno dicionário de japonês-português com pronúncia em romaji.\\n\\nFuncionalidades:\\n\\n1) Lista palavras disponíveis.\\n2) Recebe entrada do usuário.\\n3) Retorna significado e pronúncia.\\n4) Permite encerrar digitando \"sair\".\\n\\nEstrutura:\\n\\n1) Dicionário (dict) → usado para armazenar as palavras.\\n2) Loop while True → mantém o programa rodando até o usuário encerrar.\\n3) Condições if/else → verificam se a palavra existe no dicionário.\\n\\nPossíveis melhorias:\\n\\n1) Adicionar mais palavras.\\n2) Implementar busca parcial (achar mesmo se o usuário digitar parte da palavra).\\n3) Criar modo de quiz para praticar.\\n'"
            ],
            "application/vnd.google.colaboratory.intrinsic+json": {
              "type": "string"
            }
          },
          "metadata": {},
          "execution_count": 33
        }
      ]
    },
    {
      "cell_type": "markdown",
      "source": [
        "![image.png](data:image/png;base64,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)\n",
        "\n",
        "  Os primeiros exercícios foram os mais facéis e à medida que fui avançando na atividade, a dificuldade aumentou também. O chatGPT me auxiliou em alguns momentos, pois, apesar de já ter estudado python, acabei me esquecendo de alguns comandos, então facilitou bastante. Principalmente no último exercício."
      ],
      "metadata": {
        "id": "XpzDTcsbf4O_"
      }
    }
  ]
}